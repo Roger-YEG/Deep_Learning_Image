{
 "cells": [
  {
   "cell_type": "markdown",
   "id": "fc19531c-e17d-43e0-ac07-62d2aaf5b2b2",
   "metadata": {},
   "source": [
    "This project is to build the deep learning model based on the histopathologic image to determine whether the patients have cancer or not."
   ]
  },
  {
   "cell_type": "markdown",
   "id": "8a0378a3-f0a3-4436-9164-d7b2558c3d55",
   "metadata": {},
   "source": [
    "The training set include 220,025 files, and the testing set include 57458 images. The image size is 96X96 pixes, however, only the center region 32X32 pixes are labeled. "
   ]
  },
  {
   "cell_type": "code",
   "execution_count": 5,
   "id": "0a0c268c-db8b-46c6-b623-3fd691d803f8",
   "metadata": {},
   "outputs": [],
   "source": [
    "#Load necessary package\n",
    "import pandas as pd\n",
    "from tensorflow.keras.preprocessing.image import load_img,img_to_array\n",
    "import numpy as np\n",
    "import os\n",
    "from PIL import Image\n",
    "from keras.layers import Input, Conv2D, MaxPooling2D, Flatten, Dense, Dropout\n",
    "from keras.models import Sequential"
   ]
  },
  {
   "cell_type": "code",
   "execution_count": 11,
   "id": "6f02334d-15a2-45cf-877f-0d338a7b18a2",
   "metadata": {},
   "outputs": [],
   "source": [
    "#Load label csv files\n",
    "labels_df=pd.read_csv(r'D:\\ML\\DeepLearning\\Week3\\train_labels.csv')\n",
    "labels_dict = labels_df.set_index('id').to_dict()['label']\n",
    "train_dir = r'D:\\ML\\DeepLearning\\Week3\\train'\n",
    "test_dir = r'D:\\ML\\DeepLearning\\Week3\\test'\n"
   ]
  },
  {
   "cell_type": "code",
   "execution_count": 15,
   "id": "9cf038fb-6168-4093-acdc-8239aa4e683a",
   "metadata": {},
   "outputs": [],
   "source": [
    "#Display a image with cancer\n",
    "image_file='0000d563d5cfafc4e68acb7c9829258a298d9b6a.tif'\n",
    "image_path = os.path.join(train_dir, image_file)\n",
    "# Load the image\n",
    "image = Image.open(image_path)\n",
    "# Display the image\n",
    "image.show()"
   ]
  },
  {
   "cell_type": "code",
   "execution_count": null,
   "id": "39a97415-db9d-4605-a8ae-f8265a87a008",
   "metadata": {},
   "outputs": [],
   "source": [
    "# Crop the image to 32*32\n",
    "def crop_center(image,crop_size=32):\n",
    "    width,height=image.size\n",
    "    left=(width-crop_size)//2\n",
    "    top=(height-crop_size)//2\n",
    "    right=left+crop_size\n",
    "    bottom=top+crop_size\n",
    "    return image.crop((left, top, right, bottom))\n",
    "    \n"
   ]
  },
  {
   "cell_type": "code",
   "execution_count": null,
   "id": "6b55e26a-8f56-44b4-83ec-37a3eede8dc2",
   "metadata": {},
   "outputs": [],
   "source": [
    "#Convert the image to array\n",
    "def load_and_preprocess_images(folder, labels_dic=None, crop=True):\n",
    "    images, labels = [], []\n",
    "    for file in os.listdir(folder):\n",
    "        img_id = os.path.splitext(file)[0]  # Extract the image ID as a string\n",
    "        img_path = os.path.join(folder, file)\n",
    "        image = Image.open(img_path)\n",
    "        \n",
    "        # Crop to the center if needed\n",
    "        if crop:\n",
    "            image = crop_center(image)\n",
    "        \n",
    "        # Normalize image and append\n",
    "        image_array = np.array(image) / 255.0\n",
    "        images.append(image_array)\n",
    "        \n",
    "        # Append label if in training set\n",
    "        if labels_dic:\n",
    "            labels.append(labels_dic[img_id])  # Use img_id as a string key\n",
    "    \n",
    "    return np.array(images), np.array(labels) if labels_dic else None\n",
    "\n",
    "X_train, y_train = load_and_preprocess_images(train_dir, labels_dict)\n",
    "X_test, _ = load_and_preprocess_images(test_dir)\n",
    "print(f\"Number of images loaded: {len(X_test)}\")\n",
    "\n"
   ]
  },
  {
   "cell_type": "code",
   "execution_count": null,
   "id": "19b1cf92-0afa-4f8b-a54d-ea5b47a0eb71",
   "metadata": {},
   "outputs": [],
   "source": [
    "# Build the model\n",
    "model = Sequential([\n",
    "    Input(shape=(32, 32, 3)),  \n",
    "    Conv2D(32, (3, 3), activation='relu'),\n",
    "    MaxPooling2D((2, 2)),\n",
    "    Conv2D(64, (3, 3), activation='relu'),\n",
    "    MaxPooling2D((2, 2)),\n",
    "    Flatten(),\n",
    "    Dense(128, activation='relu'),\n",
    "    Dropout(0.5),\n",
    "    Dense(1, activation='sigmoid')  # Binary classification\n",
    "])\n",
    "model.compile(optimizer='adam', loss='binary_crossentropy', metrics=['accuracy'])\n",
    "model.summary()\n",
    "\n",
    "#Train the model\n",
    "history = model.fit(X_train, y_train, epochs=10, batch_size=32, validation_split=0.2)\n",
    "\n",
    "# Predict the test dataset\n",
    "predictions = model.predict(X_test)\n",
    "predicted_labels = (predictions > 0.5).astype(int)\n",
    "test_image_files = [f for f in os.listdir(test_dir) if f.endswith('.tif')]  # Ensure you use the correct directory path\n",
    "\n",
    "submission_df = pd.DataFrame({\n",
    "    'id': [os.path.splitext(file)[0] for file in test_image_files],  # Extracting image ID without the extension\n",
    "    'label': predicted_labels.flatten()  # Flattening predictions if necessary\n",
    "})\n",
    "\n",
    "submission_df.to_csv('/kaggle/working/submission.csv', index=False)"
   ]
  }
 ],
 "metadata": {
  "kernelspec": {
   "display_name": "Python 3 (ipykernel)",
   "language": "python",
   "name": "python3"
  },
  "language_info": {
   "codemirror_mode": {
    "name": "ipython",
    "version": 3
   },
   "file_extension": ".py",
   "mimetype": "text/x-python",
   "name": "python",
   "nbconvert_exporter": "python",
   "pygments_lexer": "ipython3",
   "version": "3.11.7"
  }
 },
 "nbformat": 4,
 "nbformat_minor": 5
}
